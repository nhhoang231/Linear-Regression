{
  "nbformat": 4,
  "nbformat_minor": 0,
  "metadata": {
    "colab": {
      "name": "LinearRegression.ipynb",
      "provenance": [],
      "collapsed_sections": [],
      "authorship_tag": "ABX9TyOAW+SB84mXb6DuKMpVbTuw",
      "include_colab_link": true
    },
    "kernelspec": {
      "name": "python3",
      "display_name": "Python 3"
    }
  },
  "cells": [
    {
      "cell_type": "markdown",
      "metadata": {
        "id": "view-in-github",
        "colab_type": "text"
      },
      "source": [
        "<a href=\"https://colab.research.google.com/github/nhhoang231/Linear-Regression/blob/master/LinearRegression.ipynb\" target=\"_parent\"><img src=\"https://colab.research.google.com/assets/colab-badge.svg\" alt=\"Open In Colab\"/></a>"
      ]
    },
    {
      "cell_type": "markdown",
      "metadata": {
        "id": "mMDku87ZaHNe",
        "colab_type": "text"
      },
      "source": [
        "## 1. Hồi qui tuyến tính đơn biến\n",
        "\n",
        "$y_1, y_2,..., y_n$ là các biến mục tiêu; $x_1, x_2,...,x_n$ là các biến dự báo; $w_0, w_1$ lần lượt là hệ số góc và hệ số ước lượng. \n",
        "\n",
        "Phương trình hồi qui có dạng:\n",
        "\n",
        "$\\hat{y_i} = f(x_i) = w_0 + w_1*x_1$\n",
        "\n",
        "Hàm loss function:\n",
        "\n",
        "$\\mathcal{L}(\\mathbf{w|X}) = \\frac{1}{2n} \\sum_{i = 1}^{n}(y_i - \\hat{y_i})^2 = \\frac{1}{2n} \\sum_{i = 1}^{n}(y_i - w_0 - w_1 *  x_i)^2$\n",
        "\n",
        "Đạo hàm loss function:\n",
        "\n",
        "$$\\frac{\\delta{\\mathcal{L}(\\mathbf{w|X})}}{\\delta{w_0}} = \\frac{-1}{n}\\sum_{i = 1}^{n}(y_i - w_0 - w_1*x_i) = 0$$\n",
        "$$\\frac{\\delta{\\mathcal{L}(\\mathbf{w|X})}}{\\delta{w_1}} = \\frac{-1}{n}\\sum_{i = 1}^{n}x_i(y_i - w_0 - w_1*x_i) = 0 \\tag{1}$$\n",
        "\n",
        "\n",
        "\n",
        "$$w_0 = \\mathbf{\\bar{y}}-w_1\\mathbf{\\bar{x}}$$\n",
        "$$w_1 = \\frac{\\mathbf{\\bar{x}\\bar{y} - \\bar{xy}}}{\\mathbf{\\bar{x}^2-\\bar{x^2}}}$$\n",
        "\n",
        "## 2. Hồi qui tuyến tính đa biến\n",
        "\n",
        "Phương trình $f$ ánh xạ: $\\mathbb{R}^{m\\times n}\\mapsto \\mathbb{R}^{m}$ có đầu vào là ma trận $\\mathbf{X}$ kích thước $m \\times n$ và đầu ra là vector $\\mathbf{y}$ có độ dài $m$. Trong đó $\\mathbf{X}$ có mỗi dòng tương ứng với 1 quan sát và mỗi cột tương ứng với 1 biến dự báo.\n",
        "\n",
        "Phương trình hồi qui:\n",
        "\n",
        "$\\mathbf{\\hat{y}} = f(\\mathbf{X}) = \\mathbf{X}\\mathbf{w}$\n",
        "\n",
        "Đạo hàm hàm loss function:\n",
        "\n",
        "$$\\frac{\\partial\\mathcal{L}(\\mathbf{w})}{\\mathbf{w}} = \\mathbf{\\bar{X}}^{T}(\\mathbf{\\bar{X}}\\mathbf{w} - \\mathbf{y})$$\n",
        "\n",
        "Nghiệm của phương trình hồi qui:\n",
        "\n",
        "$$\\mathbf{w} = (\\mathbf{A}^{-1}\\mathbf{b}) = (\\mathbf{\\bar{X}^{T}\\bar{X}})^{-1}\\mathbf{\\bar{X}}^{T}\\mathbf{y} \\tag{2}$$\n",
        "\n",
        "Hàm loss function\n",
        "\n",
        "Hệ số $R^2$ được sử dụng để đánh giá khả năng giải thích của biến phụ thuộc lên biến độc lập. \n",
        "\n",
        "$$TSS = \\sum_{i = 1}^{n} (y_i - \\bar{y})^2$$\n",
        "$$ESS = \\sum_{i = 1}^{n} (y_i - \\hat{y_i})^2$$\n",
        "$$RSS = \\sum_{i = 1}^{n} (\\hat{y_i} - \\bar{y})^2 \\tag{3}$$\n",
        "\n",
        "Trong đó $TSS$ là tổng bình phương sai số toàn bộ mô hình, $ESS$ là tổng bình phương sai số ngẫu nhiên, $RSS$ là tổng bình phương sai số được giải thích bởi mô hình.\n",
        "\n",
        "Ta sẽ chứng mình được $TSS = RSS + ESS$.\n",
        "Khi đó: $$R^2 = 1 - \\frac{ESS}{TSS}$$\n",
        "\n",
        "Như vậy $R^2$ càng lớn thì giá trị tổng bình phương sai số càng nhỏ.\n",
        "\n",
        "## 2.1. Xây dựng phương trình dự báo giá nhà ở\n",
        "\n",
        "### 2.1.1. Xây dựng phương trình hồi qui tuyến tình một biến\n",
        "\n",
        "Chúng ta có 15 căn hộ với diện tích (đơn vị m2):\n",
        "$$\\mathbf{x} = [73.5, 75. , 76.5, 79. , 81.5, 82.5, 84. , 85. , 86.5, 87.5, 89. , 90. , 91.5]$$ \n",
        "Mức giá của căn hộ lần lượng là (đơn vị tỷ VND đồng):\n",
        "$$\\mathbf{y} = [1.49, 1.50, 1.51,  1.54, 1.58, 1.59, 1.60, 1.62, 1.63, 1.64, 1.66, 1.67, 1.68]$$ \n",
        "\n",
        "**Câu 1:** Vẽ biểu đồ biểu diễn giá nhà theo diện tích.\n",
        "\n"
      ]
    },
    {
      "cell_type": "code",
      "metadata": {
        "id": "nhu2yEvYaMaD",
        "colab_type": "code",
        "colab": {
          "base_uri": "https://localhost:8080/",
          "height": 296
        },
        "outputId": "4a7a602b-8e8e-4f7a-a877-1d337dafe8f3"
      },
      "source": [
        "# Đồ thị biểu diễn biến x theo y \n",
        "\n",
        "import numpy as np\n",
        "import pandas as pd\n",
        "import matplotlib.pyplot as plt\n",
        "%matplotlib inline\n",
        "\n",
        "# height (cm)\n",
        "x = np.random.rand(10).T + np.arange(10)\n",
        "# weight(kg)\n",
        "y = np.random.rand(10).T + 2*np.arange(10)\n",
        "# Visualize data\n",
        "plt.plot(x,y,'r-^')\n",
        "plt.xlabel('x')\n",
        "plt.ylabel('y')\n",
        "plt.title('Đồ thị y với x')\n",
        "plt.show()"
      ],
      "execution_count": 1,
      "outputs": [
        {
          "output_type": "display_data",
          "data": {
            "image/png": "[encoded data removed]",
            "text/plain": [
              "<Figure size 432x288 with 1 Axes>"
            ]
          },
          "metadata": {
            "tags": [],
            "needs_background": "light"
          }
        }
      ]
    },
    {
      "cell_type": "code",
      "metadata": {
        "id": "aeTVDEzhbqds",
        "colab_type": "code",
        "colab": {
          "base_uri": "https://localhost:8080/",
          "height": 297
        },
        "outputId": "e3838ee7-0fdd-41b3-c512-f23654d4a55b"
      },
      "source": [
        "# Trả lời câu 1:\n",
        "\n",
        "import numpy as np\n",
        "import pandas as pd\n",
        "import matplotlib.pyplot as plt\n",
        "%matplotlib inline\n",
        "\n",
        "# height (cm)\n",
        "x = np.array([[73.5,75.,76.5,79.,81.5,82.5,84.,85.,86.5,87.5,89.,90.,91.5]]).T\n",
        "# weight (kg)\n",
        "y = np.array([[1.49,1.50,1.51,1.54,1.58,1.59,1.60,1.62,1.63,1.64,1.66,1.67,1.68]]).T\n",
        "\n",
        "# Visualize data\n",
        "plt.plot(x,y,'r-^')\n",
        "plt.xlabel('Diện tích(m2)')\n",
        "plt.ylabel('Giá nhà (Tỷ VND)')\n",
        "plt.title('Đồ thị biểu diễn giá nhà theo diện tích')\n",
        "plt.show()"
      ],
      "execution_count": 3,
      "outputs": [
        {
          "output_type": "display_data",
          "data": {
            "image/png": "[encoded data removed]",
            "text/plain": [
              "<Figure size 432x288 with 1 Axes>"
            ]
          },
          "metadata": {
            "tags": [],
            "needs_background": "light"
          }
        }
      ]
    },
    {
      "cell_type": "markdown",
      "metadata": {
        "id": "E2W3usfVdUaR",
        "colab_type": "text"
      },
      "source": [
        "**Câu 2:** Hãy xây dựng phương trình hồi qui dự báo giá nhà theo diện tích bằng cách tính $w_1$ và $w_0$ theo công thức (1) ở mục **1. hồi qui tuyến tính đơn biến**"
      ]
    },
    {
      "cell_type": "code",
      "metadata": {
        "id": "VfigsLajdVJE",
        "colab_type": "code",
        "colab": {
          "base_uri": "https://localhost:8080/",
          "height": 50
        },
        "outputId": "744c00f6-e369-4e94-8416-7861a0714e4c"
      },
      "source": [
        "w1 = (np.mean(x)*np.mean(y)-np.mean(x*y))/((np.mean(x))**2-(np.mean(x**2)))\n",
        "w0 = np.mean(y)-w1*np.mean(x)\n",
        "\n",
        "print('w1: ', w1)\n",
        "print('w0: ', w0)"
      ],
      "execution_count": 4,
      "outputs": [
        {
          "output_type": "stream",
          "text": [
            "w1:  0.011184099238793658\n",
            "w0:  0.6626458979418968\n"
          ],
          "name": "stdout"
        }
      ]
    },
    {
      "cell_type": "markdown",
      "metadata": {
        "id": "RTo3AStxddMd",
        "colab_type": "text"
      },
      "source": [
        "### 2.1.2. Xây dựng phương trình hồi qui tuyến tính với 2 biến\n",
        "\n",
        "Giả sử biết thêm thông tin số lượng phòng ngủ là:\n",
        "$$\\mathbf{x_1} = [1,1,2,2,2,2,2,2,2,2,3,3,3]$$\n",
        "\n",
        "**Câu 3:** Hãy xây dựng phương trình hồi qui dựa theo công thức (2) ở mục 2.\n",
        "\n",
        "_gợi ý: Chúng ta phải thực hiện các bước sau đây:_\n",
        "\n",
        "_bước 1: Tạo véc tơ một bằng hàm np.ones(), sau đó sử dụng hàm np.concatenate() để ghép véc tơ 1 với $\\mathbf{x, x1}$ để tạo thành $\\mathbf{\\bar{X}}$_\n",
        "\n",
        "_bước 2: Sử dụng hàm np.dot() để tích của 2 ma trận. Từ đó tính được $\\mathbf{A, b}$ --> $\\mathbf{w}$_\n",
        "\n",
        "_Các hàm sử dụng như bên dưới:_"
      ]
    },
    {
      "cell_type": "code",
      "metadata": {
        "id": "J9Baf_WgdeDe",
        "colab_type": "code",
        "colab": {
          "base_uri": "https://localhost:8080/",
          "height": 218
        },
        "outputId": "1d9188d8-228d-42f7-b22c-5b67d91e8cbd"
      },
      "source": [
        "# Khởi tạo một véc tơ 1 gồm toàn các phần tử 1 kích thước 10\n",
        "one = np.ones(10)\n",
        "print('one: \\n', one)\n",
        "# Khởi tạo một véc tơ ngẫu nhiên v.\n",
        "v = np.random.randn(10)\n",
        "print('vector v: \\n', v)\n",
        "# concatenate 2 véc tơ one và v. Lưu ý chúng phải có chung shape\n",
        "X_concat = np.concatenate([one, v])\n",
        "print('X concate one, v: \\n', X_concat)\n",
        "# tính tích của 2 ma trận. Lưu ý số cột của ma trận liền trước phải bằng số dòng của ma trận liền sau A(m,n).B(n,p)=C(m,p)\n",
        "np.dot(one, v.T)\n",
        "# ma trận nghịch đảo của một ma trận vuông khả nghịch A.\n",
        "A = np.random.randn(2,2)\n",
        "A_inv = np.linalg.pinv(A)\n",
        "# kiểm tra tích A và A_inv\n",
        "print(np.dot(A, A_inv))"
      ],
      "execution_count": 5,
      "outputs": [
        {
          "output_type": "stream",
          "text": [
            "one: \n",
            " [1. 1. 1. 1. 1. 1. 1. 1. 1. 1.]\n",
            "vector v: \n",
            " [-0.00538975  0.6817064  -0.38147942  0.97140503  0.01384508  1.63405707\n",
            " -0.79368681 -0.26849936  0.26352442  0.66219529]\n",
            "X concate one, v: \n",
            " [ 1.          1.          1.          1.          1.          1.\n",
            "  1.          1.          1.          1.         -0.00538975  0.6817064\n",
            " -0.38147942  0.97140503  0.01384508  1.63405707 -0.79368681 -0.26849936\n",
            "  0.26352442  0.66219529]\n",
            "[[ 1.00000000e+00  2.95814266e-16]\n",
            " [-6.66082103e-17  1.00000000e+00]]\n"
          ],
          "name": "stdout"
        }
      ]
    },
    {
      "cell_type": "markdown",
      "metadata": {
        "id": "1W6z8-exdyVY",
        "colab_type": "text"
      },
      "source": [
        "**Câu trả lời:**"
      ]
    },
    {
      "cell_type": "code",
      "metadata": {
        "id": "Qj8SH3-ad0a9",
        "colab_type": "code",
        "colab": {
          "base_uri": "https://localhost:8080/",
          "height": 235
        },
        "outputId": "06a84eac-81a5-4fab-e491-55787160f327"
      },
      "source": [
        "x1 = np.array([[1,1,2,2,2,2,2,2,2,2,3,3,3]]).T\n",
        "one = np.ones(x.shape[0]).reshape(-1, 1)\n",
        "Xbar = np.concatenate([one, x, x1], axis = 1)\n",
        "Xbar"
      ],
      "execution_count": 6,
      "outputs": [
        {
          "output_type": "execute_result",
          "data": {
            "text/plain": [
              "array([[ 1. , 73.5,  1. ],\n",
              "       [ 1. , 75. ,  1. ],\n",
              "       [ 1. , 76.5,  2. ],\n",
              "       [ 1. , 79. ,  2. ],\n",
              "       [ 1. , 81.5,  2. ],\n",
              "       [ 1. , 82.5,  2. ],\n",
              "       [ 1. , 84. ,  2. ],\n",
              "       [ 1. , 85. ,  2. ],\n",
              "       [ 1. , 86.5,  2. ],\n",
              "       [ 1. , 87.5,  2. ],\n",
              "       [ 1. , 89. ,  3. ],\n",
              "       [ 1. , 90. ,  3. ],\n",
              "       [ 1. , 91.5,  3. ]])"
            ]
          },
          "metadata": {
            "tags": []
          },
          "execution_count": 6
        }
      ]
    },
    {
      "cell_type": "code",
      "metadata": {
        "id": "QGNLD321d3HB",
        "colab_type": "code",
        "colab": {
          "base_uri": "https://localhost:8080/",
          "height": 67
        },
        "outputId": "8748bdea-684e-40cf-c4c3-cd38140a4cae"
      },
      "source": [
        "A = np.dot(Xbar.T, Xbar)\n",
        "b = np.dot(Xbar.T, y)\n",
        "w = np.dot(np.linalg.pinv(A), b)\n",
        "w"
      ],
      "execution_count": 7,
      "outputs": [
        {
          "output_type": "execute_result",
          "data": {
            "text/plain": [
              "array([[ 0.62942931],\n",
              "       [ 0.01172607],\n",
              "       [-0.00571564]])"
            ]
          },
          "metadata": {
            "tags": []
          },
          "execution_count": 7
        }
      ]
    },
    {
      "cell_type": "markdown",
      "metadata": {
        "id": "P51kbAAzd9KW",
        "colab_type": "text"
      },
      "source": [
        "**Câu 4:** Giải phương trình bằng package sklearn.linear_model\n",
        "\n",
        "_gợi ý: Xem link hướng dẫn:_\n",
        "\n",
        "https://scikit-learn.org/stable/modules/generated/sklearn.linear_model.LinearRegression.html \n",
        "\n",
        "**Câu trả lời:**"
      ]
    },
    {
      "cell_type": "code",
      "metadata": {
        "id": "Zdq8ilQhd9wo",
        "colab_type": "code",
        "colab": {
          "base_uri": "https://localhost:8080/",
          "height": 50
        },
        "outputId": "4950f45a-c627-4d62-db99-690c831e1a39"
      },
      "source": [
        "from sklearn import datasets, linear_model\n",
        "\n",
        "# fit the model by Linear Regression\n",
        "regr = linear_model.LinearRegression(fit_intercept=True) # fit_intercept = False for calculating the bias\n",
        "X = np.concatenate([x, x1], axis = 1)\n",
        "regr.fit(X, y)\n",
        "\n",
        "# Compare two results\n",
        "print( 'Coefficient : ', regr.coef_ )\n",
        "print( 'Interception  : ', regr.intercept_ )"
      ],
      "execution_count": 16,
      "outputs": [
        {
          "output_type": "stream",
          "text": [
            "Coefficient :  [[ 0.01172607 -0.00571564]]\n",
            "Interception  :  [0.62942931]\n"
          ],
          "name": "stdout"
        }
      ]
    },
    {
      "cell_type": "markdown",
      "metadata": {
        "id": "0gPtNFpaeD_A",
        "colab_type": "text"
      },
      "source": [
        "**Câu 5:** Dự báo giá nhà khi số lượng phòng là 3 và diện tích là 120 mét vuông.\n",
        "    \n",
        "\n",
        "**Câu trả lời:**"
      ]
    },
    {
      "cell_type": "code",
      "metadata": {
        "id": "a6twu_OoeFnR",
        "colab_type": "code",
        "colab": {
          "base_uri": "https://localhost:8080/",
          "height": 34
        },
        "outputId": "a916c391-cf54-4206-e611-4f9f797cada3"
      },
      "source": [
        "regr.predict(np.array([[120, 3]]))"
      ],
      "execution_count": 17,
      "outputs": [
        {
          "output_type": "execute_result",
          "data": {
            "text/plain": [
              "array([[2.01941041]])"
            ]
          },
          "metadata": {
            "tags": []
          },
          "execution_count": 17
        }
      ]
    },
    {
      "cell_type": "markdown",
      "metadata": {
        "id": "4fAaAwoBeNRO",
        "colab_type": "text"
      },
      "source": [
        "**Câu 6: ** Dự báo cho toàn bộ các ngôi nhà và vẽ biểu đồ giá nhà dự báo và thực tế theo trục hoành là diện tích căn hộ.\n",
        "\n",
        "**Câu trả lời:**"
      ]
    },
    {
      "cell_type": "code",
      "metadata": {
        "id": "SrZrk0mRePFA",
        "colab_type": "code",
        "colab": {
          "base_uri": "https://localhost:8080/",
          "height": 235
        },
        "outputId": "f9406b33-de53-4daf-aa9a-f0f7aeb271da"
      },
      "source": [
        "# Predict\n",
        "yhat = regr.predict(X)\n",
        "yhat"
      ],
      "execution_count": 18,
      "outputs": [
        {
          "output_type": "execute_result",
          "data": {
            "text/plain": [
              "array([[1.48557958],\n",
              "       [1.50316868],\n",
              "       [1.51504214],\n",
              "       [1.54435731],\n",
              "       [1.57367247],\n",
              "       [1.58539854],\n",
              "       [1.60298764],\n",
              "       [1.61471371],\n",
              "       [1.63230281],\n",
              "       [1.64402887],\n",
              "       [1.65590234],\n",
              "       [1.66762841],\n",
              "       [1.68521751]])"
            ]
          },
          "metadata": {
            "tags": []
          },
          "execution_count": 18
        }
      ]
    },
    {
      "cell_type": "code",
      "metadata": {
        "id": "PIWo-7PEeWXe",
        "colab_type": "code",
        "colab": {
          "base_uri": "https://localhost:8080/",
          "height": 282
        },
        "outputId": "c12e291c-2c03-4bcb-9ebf-a906374844fd"
      },
      "source": [
        "# Visualization\n",
        "plt.plot(x, y, label = 'Actual')\n",
        "plt.plot(x, yhat,'r--', label = 'Predicted')\n",
        "# Show các phần chú thích label\n",
        "plt.legend()"
      ],
      "execution_count": 19,
      "outputs": [
        {
          "output_type": "execute_result",
          "data": {
            "text/plain": [
              "<matplotlib.legend.Legend at 0x7fae3ed69e10>"
            ]
          },
          "metadata": {
            "tags": []
          },
          "execution_count": 19
        },
        {
          "output_type": "display_data",
          "data": {
            "image/png": "[encoded data removed]",
            "text/plain": [
              "<Figure size 432x288 with 1 Axes>"
            ]
          },
          "metadata": {
            "tags": [],
            "needs_background": "light"
          }
        }
      ]
    },
    {
      "cell_type": "markdown",
      "metadata": {
        "id": "9IqczMwufAVF",
        "colab_type": "text"
      },
      "source": [
        "## 2.2. Hồi qui qua nghịch đảo ma trận"
      ]
    },
    {
      "cell_type": "code",
      "metadata": {
        "id": "am-nbJbWfBJD",
        "colab_type": "code",
        "colab": {
          "base_uri": "https://localhost:8080/",
          "height": 67
        },
        "outputId": "5e855bd4-ad49-41da-8e5e-00c72ced1990"
      },
      "source": [
        "ones = np.ones((X.shape[0], 1))\n",
        "Xbar = np.concatenate((ones, X), axis = 1)\n",
        "A = np.dot(Xbar.T, Xbar)\n",
        "b = np.dot(Xbar.T, y)\n",
        "\n",
        "w = np.dot(np.linalg.inv(A), b)\n",
        "print('Estimate coeficients: ', str(w))"
      ],
      "execution_count": 20,
      "outputs": [
        {
          "output_type": "stream",
          "text": [
            "Estimate coeficients:  [[ 0.62942931]\n",
            " [ 0.01172607]\n",
            " [-0.00571564]]\n"
          ],
          "name": "stdout"
        }
      ]
    },
    {
      "cell_type": "markdown",
      "metadata": {
        "id": "MOuAyvSNfH84",
        "colab_type": "text"
      },
      "source": [
        "## 2.3. Hồi qui với regularization\n",
        "\n",
        "Regularization là kĩ thuật tránh overfiting bằng cách đưa thêm thành phần liên quan đến norm của các hệ số vào hàm loss function. Norm có thể là bậc 1 hoặc bậc 2. Trong trường hợp bậc 2 ta gọi là **Ridge regression**:\n",
        "\n",
        "$$\\mathcal{L}(\\mathbf{w}; \\mathbf{X}, \\mathbf{y}) = \\frac{1}{n} \\sum_{i=1}^{n} (y_i-\\hat{y_i})^2 + \\alpha||\\mathbf{w}||_{2}^2$$\n",
        "\n",
        "Đối với trường hợp bậc 1 gọi là **Lasso regression**:\n",
        "\n",
        "$$\\mathcal{L}(\\mathbf{w}; \\mathbf{X}, \\mathbf{y}) = \\frac{1}{n} \\sum_{i=1}^{n} (y_i-\\hat{y_i})^2 + \\alpha||\\mathbf{w}||_1^{2}$$\n",
        "\n",
        "\n",
        "### 2.3.1. Ridge regression\n",
        "\n",
        "**Câu 7:** Xây dưng phương trình hồi qui Ridge regression và vẽ biểu đồ giá trị dự báo và giá trị thực tế với trục hoành là diện tích căn hộ.\n",
        "\n",
        "**Câu trả lời:**"
      ]
    },
    {
      "cell_type": "code",
      "metadata": {
        "id": "jBCjXvicfJko",
        "colab_type": "code",
        "colab": {
          "base_uri": "https://localhost:8080/",
          "height": 282
        },
        "outputId": "9abc7f10-2e16-4519-a625-db3371fe95cc"
      },
      "source": [
        "from sklearn.linear_model import Ridge\n",
        "\n",
        "rid_mod = Ridge(alpha = 0.3, normalize = True)\n",
        "rid_mod.fit(X, y)\n",
        "\n",
        "yhat_rid = rid_mod.predict(X)\n",
        "\n",
        "plt.plot(X, y, label = 'Actual')\n",
        "plt.plot(X, yhat_rid,'r--', label = 'Predicted')\n",
        "plt.legend()"
      ],
      "execution_count": 21,
      "outputs": [
        {
          "output_type": "execute_result",
          "data": {
            "text/plain": [
              "<matplotlib.legend.Legend at 0x7fae3ecfb160>"
            ]
          },
          "metadata": {
            "tags": []
          },
          "execution_count": 21
        },
        {
          "output_type": "display_data",
          "data": {
            "image/png": "[encoded data removed]",
            "text/plain": [
              "<Figure size 432x288 with 1 Axes>"
            ]
          },
          "metadata": {
            "tags": [],
            "needs_background": "light"
          }
        }
      ]
    },
    {
      "cell_type": "markdown",
      "metadata": {
        "id": "UwjlvbFsfyL7",
        "colab_type": "text"
      },
      "source": [
        "### 2.3.2. Lasso regression\n",
        "\n",
        "**Câu 8:** Xây dưng phương trình hồi qui Lasso regression và vẽ biểu đồ giá trị dự báo và giá trị thực tế với trục hoành là diện tích căn hộ.\n",
        "\n",
        "**Câu trả lời:**"
      ]
    },
    {
      "cell_type": "code",
      "metadata": {
        "id": "nXRs7AIkfyu8",
        "colab_type": "code",
        "colab": {
          "base_uri": "https://localhost:8080/",
          "height": 282
        },
        "outputId": "9eedd6c4-7841-44b8-cfba-03a7da65a43a"
      },
      "source": [
        "from sklearn.linear_model import Lasso\n",
        "\n",
        "las_mod = Lasso(alpha = 0.1, normalize = True)\n",
        "las_mod.fit(X, y)\n",
        "\n",
        "yhat_las = las_mod.predict(X)\n",
        "\n",
        "plt.plot(X, y, label = 'Actual')\n",
        "plt.plot(X, yhat_las,'r--', label = 'Predicted')\n",
        "plt.legend()"
      ],
      "execution_count": 23,
      "outputs": [
        {
          "output_type": "execute_result",
          "data": {
            "text/plain": [
              "<matplotlib.legend.Legend at 0x7fae3ec76828>"
            ]
          },
          "metadata": {
            "tags": []
          },
          "execution_count": 23
        },
        {
          "output_type": "display_data",
          "data": {
            "image/png": "[encoded data removed]",
            "text/plain": [
              "<Figure size 432x288 with 1 Axes>"
            ]
          },
          "metadata": {
            "tags": [],
            "needs_background": "light"
          }
        }
      ]
    },
    {
      "cell_type": "markdown",
      "metadata": {
        "id": "FozqyJgvgBCI",
        "colab_type": "text"
      },
      "source": [
        "## 3. Thực hành dự báo khách hàng hàng không\n",
        "\n",
        "**Câu 10:** Với số liệu được lấy từ lưu lượng hành khách sử dụng dịch vụ hàng không qua các năm tại [international airline passengers](https://raw.githubusercontent.com/nhhoang231/Datasets/master/international-airline-passengers.csv). Xây dựng phương trình dự báo lưu lượng hành khách.\n",
        "\n",
        "**Câu trả lời:**"
      ]
    },
    {
      "cell_type": "code",
      "metadata": {
        "id": "WpXSvf7ggD-k",
        "colab_type": "code",
        "colab": {}
      },
      "source": [
        "import pandas as pd\n",
        "import numpy as np\n",
        "import matplotlib.pyplot as plt\n",
        "\n",
        "%matplotlib inline"
      ],
      "execution_count": 24,
      "outputs": []
    },
    {
      "cell_type": "code",
      "metadata": {
        "id": "iGZSrxdzltDw",
        "colab_type": "code",
        "colab": {
          "base_uri": "https://localhost:8080/",
          "height": 225
        },
        "outputId": "5bbe904b-e336-4f9b-9e6f-ab4554015615"
      },
      "source": [
        "data = pd.read_csv('https://raw.githubusercontent.com/nhhoang231/Linear-Regression/master/international-airline-passengers.csv', sep = ',', \n",
        "                   header = 0, \n",
        "                   index_col = 0)\n",
        "\n",
        "data.columns = ['Y']\n",
        "data.head()"
      ],
      "execution_count": 25,
      "outputs": [
        {
          "output_type": "execute_result",
          "data": {
            "text/html": [
              "<div>\n",
              "<style scoped>\n",
              "    .dataframe tbody tr th:only-of-type {\n",
              "        vertical-align: middle;\n",
              "    }\n",
              "\n",
              "    .dataframe tbody tr th {\n",
              "        vertical-align: top;\n",
              "    }\n",
              "\n",
              "    .dataframe thead th {\n",
              "        text-align: right;\n",
              "    }\n",
              "</style>\n",
              "<table border=\"1\" class=\"dataframe\">\n",
              "  <thead>\n",
              "    <tr style=\"text-align: right;\">\n",
              "      <th></th>\n",
              "      <th>Y</th>\n",
              "    </tr>\n",
              "    <tr>\n",
              "      <th>Month</th>\n",
              "      <th></th>\n",
              "    </tr>\n",
              "  </thead>\n",
              "  <tbody>\n",
              "    <tr>\n",
              "      <th>1949-01</th>\n",
              "      <td>112</td>\n",
              "    </tr>\n",
              "    <tr>\n",
              "      <th>1949-02</th>\n",
              "      <td>118</td>\n",
              "    </tr>\n",
              "    <tr>\n",
              "      <th>1949-03</th>\n",
              "      <td>132</td>\n",
              "    </tr>\n",
              "    <tr>\n",
              "      <th>1949-04</th>\n",
              "      <td>129</td>\n",
              "    </tr>\n",
              "    <tr>\n",
              "      <th>1949-05</th>\n",
              "      <td>121</td>\n",
              "    </tr>\n",
              "  </tbody>\n",
              "</table>\n",
              "</div>"
            ],
            "text/plain": [
              "           Y\n",
              "Month       \n",
              "1949-01  112\n",
              "1949-02  118\n",
              "1949-03  132\n",
              "1949-04  129\n",
              "1949-05  121"
            ]
          },
          "metadata": {
            "tags": []
          },
          "execution_count": 25
        }
      ]
    },
    {
      "cell_type": "code",
      "metadata": {
        "id": "KCmFZGYYmZK7",
        "colab_type": "code",
        "colab": {
          "base_uri": "https://localhost:8080/",
          "height": 296
        },
        "outputId": "e22ece87-81ef-41e3-a39c-aee09eef41dd"
      },
      "source": [
        "data.plot()"
      ],
      "execution_count": 26,
      "outputs": [
        {
          "output_type": "execute_result",
          "data": {
            "text/plain": [
              "<matplotlib.axes._subplots.AxesSubplot at 0x7fae3e5f05f8>"
            ]
          },
          "metadata": {
            "tags": []
          },
          "execution_count": 26
        },
        {
          "output_type": "display_data",
          "data": {
            "image/png": "[encoded data removed]",
            "text/plain": [
              "<Figure size 432x288 with 1 Axes>"
            ]
          },
          "metadata": {
            "tags": [],
            "needs_background": "light"
          }
        }
      ]
    },
    {
      "cell_type": "code",
      "metadata": {
        "id": "FIdmj6hXmcZ_",
        "colab_type": "code",
        "colab": {}
      },
      "source": [
        "X1 = data.shift(1)\n",
        "X1.columns = ['Y1']\n",
        "X2 = data.shift(2)\n",
        "X2.columns = ['Y2']"
      ],
      "execution_count": 27,
      "outputs": []
    },
    {
      "cell_type": "markdown",
      "metadata": {
        "id": "8QqT2L0TmiAW",
        "colab_type": "text"
      },
      "source": [
        "### Preprocessing data\n",
        "Nhận thấy X1, X2 đều bị NaN. Cần fill những giá trị NaN này bằng các giá trị gần sát với thực tế."
      ]
    },
    {
      "cell_type": "code",
      "metadata": {
        "id": "Qdrr7d-lmi0K",
        "colab_type": "code",
        "colab": {
          "base_uri": "https://localhost:8080/",
          "height": 225
        },
        "outputId": "2e1d1a35-1a5d-474c-bfe7-371708affa9c"
      },
      "source": [
        "X2.head()"
      ],
      "execution_count": 28,
      "outputs": [
        {
          "output_type": "execute_result",
          "data": {
            "text/html": [
              "<div>\n",
              "<style scoped>\n",
              "    .dataframe tbody tr th:only-of-type {\n",
              "        vertical-align: middle;\n",
              "    }\n",
              "\n",
              "    .dataframe tbody tr th {\n",
              "        vertical-align: top;\n",
              "    }\n",
              "\n",
              "    .dataframe thead th {\n",
              "        text-align: right;\n",
              "    }\n",
              "</style>\n",
              "<table border=\"1\" class=\"dataframe\">\n",
              "  <thead>\n",
              "    <tr style=\"text-align: right;\">\n",
              "      <th></th>\n",
              "      <th>Y2</th>\n",
              "    </tr>\n",
              "    <tr>\n",
              "      <th>Month</th>\n",
              "      <th></th>\n",
              "    </tr>\n",
              "  </thead>\n",
              "  <tbody>\n",
              "    <tr>\n",
              "      <th>1949-01</th>\n",
              "      <td>NaN</td>\n",
              "    </tr>\n",
              "    <tr>\n",
              "      <th>1949-02</th>\n",
              "      <td>NaN</td>\n",
              "    </tr>\n",
              "    <tr>\n",
              "      <th>1949-03</th>\n",
              "      <td>112.0</td>\n",
              "    </tr>\n",
              "    <tr>\n",
              "      <th>1949-04</th>\n",
              "      <td>118.0</td>\n",
              "    </tr>\n",
              "    <tr>\n",
              "      <th>1949-05</th>\n",
              "      <td>132.0</td>\n",
              "    </tr>\n",
              "  </tbody>\n",
              "</table>\n",
              "</div>"
            ],
            "text/plain": [
              "            Y2\n",
              "Month         \n",
              "1949-01    NaN\n",
              "1949-02    NaN\n",
              "1949-03  112.0\n",
              "1949-04  118.0\n",
              "1949-05  132.0"
            ]
          },
          "metadata": {
            "tags": []
          },
          "execution_count": 28
        }
      ]
    },
    {
      "cell_type": "code",
      "metadata": {
        "id": "XbcQ4aS5nCOO",
        "colab_type": "code",
        "colab": {}
      },
      "source": [
        "X1 = X1.fillna(X1.iloc[1, 0]-(X1.iloc[2, 0]-X1.iloc[1, 0]))"
      ],
      "execution_count": 29,
      "outputs": []
    },
    {
      "cell_type": "code",
      "metadata": {
        "id": "eQpZmcaZnC_W",
        "colab_type": "code",
        "colab": {
          "base_uri": "https://localhost:8080/",
          "height": 225
        },
        "outputId": "17fd3483-45fd-414f-acf9-e82fad0b30b3"
      },
      "source": [
        "# X2 = X2.fillna(X1.iloc[1, 0]-(X1.iloc[2, 0]-X1.iloc[1, 0]))\n",
        "delta = X1.iloc[3, 0]-X1.iloc[2, 0]\n",
        "X2.iloc[1, 0] = X2.iloc[2, 0] - delta\n",
        "X2.iloc[0, 0] = X2.iloc[1, 0] - delta\n",
        "X2.head()"
      ],
      "execution_count": 30,
      "outputs": [
        {
          "output_type": "execute_result",
          "data": {
            "text/html": [
              "<div>\n",
              "<style scoped>\n",
              "    .dataframe tbody tr th:only-of-type {\n",
              "        vertical-align: middle;\n",
              "    }\n",
              "\n",
              "    .dataframe tbody tr th {\n",
              "        vertical-align: top;\n",
              "    }\n",
              "\n",
              "    .dataframe thead th {\n",
              "        text-align: right;\n",
              "    }\n",
              "</style>\n",
              "<table border=\"1\" class=\"dataframe\">\n",
              "  <thead>\n",
              "    <tr style=\"text-align: right;\">\n",
              "      <th></th>\n",
              "      <th>Y2</th>\n",
              "    </tr>\n",
              "    <tr>\n",
              "      <th>Month</th>\n",
              "      <th></th>\n",
              "    </tr>\n",
              "  </thead>\n",
              "  <tbody>\n",
              "    <tr>\n",
              "      <th>1949-01</th>\n",
              "      <td>84.0</td>\n",
              "    </tr>\n",
              "    <tr>\n",
              "      <th>1949-02</th>\n",
              "      <td>98.0</td>\n",
              "    </tr>\n",
              "    <tr>\n",
              "      <th>1949-03</th>\n",
              "      <td>112.0</td>\n",
              "    </tr>\n",
              "    <tr>\n",
              "      <th>1949-04</th>\n",
              "      <td>118.0</td>\n",
              "    </tr>\n",
              "    <tr>\n",
              "      <th>1949-05</th>\n",
              "      <td>132.0</td>\n",
              "    </tr>\n",
              "  </tbody>\n",
              "</table>\n",
              "</div>"
            ],
            "text/plain": [
              "            Y2\n",
              "Month         \n",
              "1949-01   84.0\n",
              "1949-02   98.0\n",
              "1949-03  112.0\n",
              "1949-04  118.0\n",
              "1949-05  132.0"
            ]
          },
          "metadata": {
            "tags": []
          },
          "execution_count": 30
        }
      ]
    },
    {
      "cell_type": "markdown",
      "metadata": {
        "id": "J3qKfMQinONf",
        "colab_type": "text"
      },
      "source": [
        "### Phân chia train/test"
      ]
    },
    {
      "cell_type": "code",
      "metadata": {
        "id": "HJ9HSvd_nPj-",
        "colab_type": "code",
        "colab": {
          "base_uri": "https://localhost:8080/",
          "height": 225
        },
        "outputId": "cd698c5d-5465-4e3b-d3f1-73834ffac3d4"
      },
      "source": [
        "# Tao dataframe X\n",
        "X = pd.concat((X1, X2), axis = 1)\n",
        "X.head()"
      ],
      "execution_count": 31,
      "outputs": [
        {
          "output_type": "execute_result",
          "data": {
            "text/html": [
              "<div>\n",
              "<style scoped>\n",
              "    .dataframe tbody tr th:only-of-type {\n",
              "        vertical-align: middle;\n",
              "    }\n",
              "\n",
              "    .dataframe tbody tr th {\n",
              "        vertical-align: top;\n",
              "    }\n",
              "\n",
              "    .dataframe thead th {\n",
              "        text-align: right;\n",
              "    }\n",
              "</style>\n",
              "<table border=\"1\" class=\"dataframe\">\n",
              "  <thead>\n",
              "    <tr style=\"text-align: right;\">\n",
              "      <th></th>\n",
              "      <th>Y1</th>\n",
              "      <th>Y2</th>\n",
              "    </tr>\n",
              "    <tr>\n",
              "      <th>Month</th>\n",
              "      <th></th>\n",
              "      <th></th>\n",
              "    </tr>\n",
              "  </thead>\n",
              "  <tbody>\n",
              "    <tr>\n",
              "      <th>1949-01</th>\n",
              "      <td>106.0</td>\n",
              "      <td>84.0</td>\n",
              "    </tr>\n",
              "    <tr>\n",
              "      <th>1949-02</th>\n",
              "      <td>112.0</td>\n",
              "      <td>98.0</td>\n",
              "    </tr>\n",
              "    <tr>\n",
              "      <th>1949-03</th>\n",
              "      <td>118.0</td>\n",
              "      <td>112.0</td>\n",
              "    </tr>\n",
              "    <tr>\n",
              "      <th>1949-04</th>\n",
              "      <td>132.0</td>\n",
              "      <td>118.0</td>\n",
              "    </tr>\n",
              "    <tr>\n",
              "      <th>1949-05</th>\n",
              "      <td>129.0</td>\n",
              "      <td>132.0</td>\n",
              "    </tr>\n",
              "  </tbody>\n",
              "</table>\n",
              "</div>"
            ],
            "text/plain": [
              "            Y1     Y2\n",
              "Month                \n",
              "1949-01  106.0   84.0\n",
              "1949-02  112.0   98.0\n",
              "1949-03  118.0  112.0\n",
              "1949-04  132.0  118.0\n",
              "1949-05  129.0  132.0"
            ]
          },
          "metadata": {
            "tags": []
          },
          "execution_count": 31
        }
      ]
    },
    {
      "cell_type": "code",
      "metadata": {
        "id": "FSOgecgdnSux",
        "colab_type": "code",
        "colab": {}
      },
      "source": [
        "y = data"
      ],
      "execution_count": 32,
      "outputs": []
    },
    {
      "cell_type": "code",
      "metadata": {
        "id": "dHD9QclfnUcB",
        "colab_type": "code",
        "colab": {}
      },
      "source": [
        "X_train, y_train = X.iloc[:-12,:], y.iloc[:-12,]\n",
        "X_test, y_test = X.iloc[-12:, :], y.iloc[-12:,]"
      ],
      "execution_count": 33,
      "outputs": []
    },
    {
      "cell_type": "code",
      "metadata": {
        "id": "JbhGKyppnWxt",
        "colab_type": "code",
        "colab": {
          "base_uri": "https://localhost:8080/",
          "height": 296
        },
        "outputId": "502a53e9-c674-4908-c8cd-3d22dcd32f7e"
      },
      "source": [
        "y_train.plot()"
      ],
      "execution_count": 34,
      "outputs": [
        {
          "output_type": "execute_result",
          "data": {
            "text/plain": [
              "<matplotlib.axes._subplots.AxesSubplot at 0x7fae3e5772e8>"
            ]
          },
          "metadata": {
            "tags": []
          },
          "execution_count": 34
        },
        {
          "output_type": "display_data",
          "data": {
            "image/png": "[encoded data removed]",
            "text/plain": [
              "<Figure size 432x288 with 1 Axes>"
            ]
          },
          "metadata": {
            "tags": [],
            "needs_background": "light"
          }
        }
      ]
    },
    {
      "cell_type": "code",
      "metadata": {
        "id": "FGB0m_h1nYon",
        "colab_type": "code",
        "colab": {
          "base_uri": "https://localhost:8080/",
          "height": 296
        },
        "outputId": "6db34f61-6fcb-4be5-ba9c-8c398c8dd43f"
      },
      "source": [
        "y_test.plot()"
      ],
      "execution_count": 35,
      "outputs": [
        {
          "output_type": "execute_result",
          "data": {
            "text/plain": [
              "<matplotlib.axes._subplots.AxesSubplot at 0x7fae3e4e9b38>"
            ]
          },
          "metadata": {
            "tags": []
          },
          "execution_count": 35
        },
        {
          "output_type": "display_data",
          "data": {
            "image/png": "[encoded data removed]",
            "text/plain": [
              "<Figure size 432x288 with 1 Axes>"
            ]
          },
          "metadata": {
            "tags": [],
            "needs_background": "light"
          }
        }
      ]
    },
    {
      "cell_type": "markdown",
      "metadata": {
        "id": "pR66vM7Gnbxv",
        "colab_type": "text"
      },
      "source": [
        "### Xây dựng mô hình hồi qui"
      ]
    },
    {
      "cell_type": "code",
      "metadata": {
        "id": "QS0I96cznhKO",
        "colab_type": "code",
        "colab": {}
      },
      "source": [
        "from sklearn.linear_model import LinearRegression\n",
        "\n",
        "model = LinearRegression(fit_intercept = True)"
      ],
      "execution_count": 36,
      "outputs": []
    },
    {
      "cell_type": "code",
      "metadata": {
        "id": "uFVwWZx6njOR",
        "colab_type": "code",
        "colab": {
          "base_uri": "https://localhost:8080/",
          "height": 34
        },
        "outputId": "bba9d9b2-c2ec-4365-809b-ec8f1a8242fd"
      },
      "source": [
        "model.fit(X_train, y_train)"
      ],
      "execution_count": 37,
      "outputs": [
        {
          "output_type": "execute_result",
          "data": {
            "text/plain": [
              "LinearRegression(copy_X=True, fit_intercept=True, n_jobs=None, normalize=False)"
            ]
          },
          "metadata": {
            "tags": []
          },
          "execution_count": 37
        }
      ]
    },
    {
      "cell_type": "code",
      "metadata": {
        "id": "DwlKWPHfnk8x",
        "colab_type": "code",
        "colab": {}
      },
      "source": [
        "y_pred = model.predict(X_train)"
      ],
      "execution_count": 38,
      "outputs": []
    },
    {
      "cell_type": "code",
      "metadata": {
        "id": "sAfUW0y-nmWu",
        "colab_type": "code",
        "colab": {
          "base_uri": "https://localhost:8080/",
          "height": 296
        },
        "outputId": "394e2b6f-5263-441e-b68e-68ae5f3bb62b"
      },
      "source": [
        "y_train.plot()\n",
        "plt.plot(y_pred)"
      ],
      "execution_count": 39,
      "outputs": [
        {
          "output_type": "execute_result",
          "data": {
            "text/plain": [
              "[<matplotlib.lines.Line2D at 0x7fae3e49d748>]"
            ]
          },
          "metadata": {
            "tags": []
          },
          "execution_count": 39
        },
        {
          "output_type": "display_data",
          "data": {
            "image/png": "[encoded data removed]",
            "text/plain": [
              "<Figure size 432x288 with 1 Axes>"
            ]
          },
          "metadata": {
            "tags": [],
            "needs_background": "light"
          }
        }
      ]
    },
    {
      "cell_type": "markdown",
      "metadata": {
        "id": "PRkhTOHpnpb6",
        "colab_type": "text"
      },
      "source": [
        "### Dự báo trên tập test"
      ]
    },
    {
      "cell_type": "code",
      "metadata": {
        "id": "osd2N1Dknquk",
        "colab_type": "code",
        "colab": {}
      },
      "source": [
        "y_pred_test = model.predict(X_test)"
      ],
      "execution_count": 40,
      "outputs": []
    },
    {
      "cell_type": "code",
      "metadata": {
        "id": "vkOllDA-nsNY",
        "colab_type": "code",
        "colab": {
          "base_uri": "https://localhost:8080/",
          "height": 296
        },
        "outputId": "7830f329-5879-4307-fe4a-41c669400863"
      },
      "source": [
        "y_test.plot()\n",
        "plt.plot(y_pred_test)"
      ],
      "execution_count": 41,
      "outputs": [
        {
          "output_type": "execute_result",
          "data": {
            "text/plain": [
              "[<matplotlib.lines.Line2D at 0x7fae3e432cc0>]"
            ]
          },
          "metadata": {
            "tags": []
          },
          "execution_count": 41
        },
        {
          "output_type": "display_data",
          "data": {
            "image/png": "[encoded data removed]",
            "text/plain": [
              "<Figure size 432x288 with 1 Axes>"
            ]
          },
          "metadata": {
            "tags": [],
            "needs_background": "light"
          }
        }
      ]
    },
    {
      "cell_type": "code",
      "metadata": {
        "id": "ciGOkRlcnuHz",
        "colab_type": "code",
        "colab": {
          "base_uri": "https://localhost:8080/",
          "height": 34
        },
        "outputId": "dd6433b1-293d-46c9-cae2-93c1e6ed6e81"
      },
      "source": [
        "# danh gia mo hinh tren RMSE\n",
        "from math import sqrt\n",
        "def rmse(y, yhat):\n",
        "    return sqrt(np.mean((y-yhat)**2))\n",
        "\n",
        "rmse(y_test, y_pred_test)"
      ],
      "execution_count": 42,
      "outputs": [
        {
          "output_type": "execute_result",
          "data": {
            "text/plain": [
              "48.952010456831545"
            ]
          },
          "metadata": {
            "tags": []
          },
          "execution_count": 42
        }
      ]
    },
    {
      "cell_type": "code",
      "metadata": {
        "id": "meudOX91nyQh",
        "colab_type": "code",
        "colab": {
          "base_uri": "https://localhost:8080/",
          "height": 34
        },
        "outputId": "b3ea0ecf-8414-4c00-d440-16d1c2c43719"
      },
      "source": [
        "rmse(y_train, y_pred)"
      ],
      "execution_count": 43,
      "outputs": [
        {
          "output_type": "execute_result",
          "data": {
            "text/plain": [
              "29.24144391068895"
            ]
          },
          "metadata": {
            "tags": []
          },
          "execution_count": 43
        }
      ]
    }
  ]
}